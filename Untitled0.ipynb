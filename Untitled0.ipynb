{
  "nbformat": 4,
  "nbformat_minor": 0,
  "metadata": {
    "colab": {
      "name": "Untitled0.ipynb",
      "provenance": []
    },
    "kernelspec": {
      "name": "python3",
      "display_name": "Python 3"
    },
    "language_info": {
      "name": "python"
    }
  },
  "cells": [
    {
      "cell_type": "code",
      "metadata": {
        "id": "FyKIAr9Jw8ts"
      },
      "source": [
        "import numpy as np\n",
        "import pandas as pd\n",
        "import matplotlib.pyplot as plt\n",
        "import seaborn as sn\n",
        "from datetime import datetime\n",
        "from sklearn.metrics import confusion_matrix\n",
        "from sklearn.metrics import accuracy_score\n",
        "from sklearn.metrics import classification_report\n",
        "from sklearn.metrics import plot_confusion_matrix, plot_precision_recall_curve, plot_roc_curve, precision_recall_fscore_support, ConfusionMatrixDisplay\n",
        "from IPython.display import display\n",
        "from sklearn.metrics import mean_squared_error\n",
        "from sklearn.model_selection import GridSearchCV\n",
        "from sklearn.model_selection import RandomizedSearchCV\n",
        "from sklearn.linear_model import LogisticRegression\n",
        "from sklearn.model_selection import cross_validate\n",
        "import time\n"
      ],
      "execution_count": 1,
      "outputs": []
    },
    {
      "cell_type": "code",
      "metadata": {
        "colab": {
          "base_uri": "https://localhost:8080/"
        },
        "id": "AkbGdS1_xBK8",
        "outputId": "df9d1630-dbd0-4502-df95-050adb531f5f"
      },
      "source": [
        "pd.set_option('display.max_columns', 500)\n",
        "pd.set_option(\"display.max_colwidth\", -1)"
      ],
      "execution_count": 2,
      "outputs": [
        {
          "output_type": "stream",
          "text": [
            "/usr/local/lib/python3.7/dist-packages/ipykernel_launcher.py:2: FutureWarning: Passing a negative integer is deprecated in version 1.0 and will not be supported in future version. Instead, use None to not limit the column width.\n",
            "  \n"
          ],
          "name": "stderr"
        }
      ]
    },
    {
      "cell_type": "code",
      "metadata": {
        "colab": {
          "base_uri": "https://localhost:8080/"
        },
        "id": "b7pWLHjNxDIE",
        "outputId": "7ece1ce3-7f94-41d8-af62-5eb43892f9fa"
      },
      "source": [
        "#Sækjum gögnin\n",
        "from google.colab import drive\n",
        "drive.mount('/content/drive')\n",
        "shots = pd.read_csv('/content/drive/MyDrive/Colab Notebooks/mynstursgr/Lokaverkefni/shots.csv')\n",
        "players = pd.read_csv('/content/drive/MyDrive/Colab Notebooks/mynstursgr/Lokaverkefni/players.csv')\n",
        "                  "
      ],
      "execution_count": 3,
      "outputs": [
        {
          "output_type": "stream",
          "text": [
            "Drive already mounted at /content/drive; to attempt to forcibly remount, call drive.mount(\"/content/drive\", force_remount=True).\n"
          ],
          "name": "stdout"
        }
      ]
    },
    {
      "cell_type": "code",
      "metadata": {
        "colab": {
          "base_uri": "https://localhost:8080/",
          "height": 235
        },
        "id": "z8Hb8LBlxQ2v",
        "outputId": "0e98c3a1-2078-44e0-bf05-fae254de4883"
      },
      "source": [
        "shots_row, shots_col = np.shape(shots)\n",
        "printline()\n",
        "print('Fjöldi lína í gagnasettinu shots.csv:', shots_row)\n",
        "print('Fjöldi dálka í gagnasettinu shots.csv:', shots_col)\n",
        "printline()\n",
        "print('Dálkar og tög þeirra í shots:')\n",
        "print()\n",
        "print(shots.dtypes)\n",
        "printline()\n",
        "\n"
      ],
      "execution_count": 4,
      "outputs": [
        {
          "output_type": "error",
          "ename": "NameError",
          "evalue": "ignored",
          "traceback": [
            "\u001b[0;31m---------------------------------------------------------------------------\u001b[0m",
            "\u001b[0;31mNameError\u001b[0m                                 Traceback (most recent call last)",
            "\u001b[0;32m<ipython-input-4-736bc9e82782>\u001b[0m in \u001b[0;36m<module>\u001b[0;34m()\u001b[0m\n\u001b[1;32m      1\u001b[0m \u001b[0mshots_row\u001b[0m\u001b[0;34m,\u001b[0m \u001b[0mshots_col\u001b[0m \u001b[0;34m=\u001b[0m \u001b[0mnp\u001b[0m\u001b[0;34m.\u001b[0m\u001b[0mshape\u001b[0m\u001b[0;34m(\u001b[0m\u001b[0mshots\u001b[0m\u001b[0;34m)\u001b[0m\u001b[0;34m\u001b[0m\u001b[0;34m\u001b[0m\u001b[0m\n\u001b[0;32m----> 2\u001b[0;31m \u001b[0mprintline\u001b[0m\u001b[0;34m(\u001b[0m\u001b[0;34m)\u001b[0m\u001b[0;34m\u001b[0m\u001b[0;34m\u001b[0m\u001b[0m\n\u001b[0m\u001b[1;32m      3\u001b[0m \u001b[0mprint\u001b[0m\u001b[0;34m(\u001b[0m\u001b[0;34m'Fjöldi lína í gagnasettinu shots.csv:'\u001b[0m\u001b[0;34m,\u001b[0m \u001b[0mshots_row\u001b[0m\u001b[0;34m)\u001b[0m\u001b[0;34m\u001b[0m\u001b[0;34m\u001b[0m\u001b[0m\n\u001b[1;32m      4\u001b[0m \u001b[0mprint\u001b[0m\u001b[0;34m(\u001b[0m\u001b[0;34m'Fjöldi dálka í gagnasettinu shots.csv:'\u001b[0m\u001b[0;34m,\u001b[0m \u001b[0mshots_col\u001b[0m\u001b[0;34m)\u001b[0m\u001b[0;34m\u001b[0m\u001b[0;34m\u001b[0m\u001b[0m\n\u001b[1;32m      5\u001b[0m \u001b[0mprintline\u001b[0m\u001b[0;34m(\u001b[0m\u001b[0;34m)\u001b[0m\u001b[0;34m\u001b[0m\u001b[0;34m\u001b[0m\u001b[0m\n",
            "\u001b[0;31mNameError\u001b[0m: name 'printline' is not defined"
          ]
        }
      ]
    },
    {
      "cell_type": "code",
      "metadata": {
        "colab": {
          "base_uri": "https://localhost:8080/"
        },
        "id": "bs74WCDDxg0C",
        "outputId": "e56a4466-fdb1-4289-86a4-b8d86b6003e3"
      },
      "source": [
        "players_row, players_col = np.shape(players)\n",
        "\n",
        "print('Fjöldi lína í gagnasettinu players.csv:', players_row)\n",
        "print('Fjöldi dálka í gagnasettinu players.csv:', players_col)\n",
        "print()\n",
        "print('Dálkar og tög þeirra í players:')\n",
        "print()\n",
        "print(shots.dtypes)\n",
        "\n"
      ],
      "execution_count": 5,
      "outputs": [
        {
          "output_type": "stream",
          "text": [
            "Fjöldi lína í gagnasettinu players.csv: 4724\n",
            "Fjöldi dálka í gagnasettinu players.csv: 15\n",
            "\n",
            "Dálkar og tög þeirra í players:\n",
            "\n",
            "Unnamed: 0          int64  \n",
            "id_odsp             object \n",
            "id_event            object \n",
            "sort_order          int64  \n",
            "time                int64  \n",
            "text                object \n",
            "event_type          int64  \n",
            "event_type2         float64\n",
            "side                int64  \n",
            "event_team          object \n",
            "opponent            object \n",
            "player              object \n",
            "player2             object \n",
            "player_in           float64\n",
            "player_out          float64\n",
            "shot_place          int64  \n",
            "shot_outcome        int64  \n",
            "is_goal             int64  \n",
            "location            int64  \n",
            "bodypart            int64  \n",
            "assist_method       int64  \n",
            "situation           int64  \n",
            "fast_break          int64  \n",
            "country             object \n",
            "date                object \n",
            "season              int64  \n",
            "Log_Reg_xG          float64\n",
            "Log_Reg_mismunur    float64\n",
            "RF_xG               float64\n",
            "RF_mismunur         float64\n",
            "NN_1_xG             float64\n",
            "NN_1_mismunur       float64\n",
            "GBC_xG              float64\n",
            "GBC_mismunur        float64\n",
            "dtype: object\n"
          ],
          "name": "stdout"
        }
      ]
    },
    {
      "cell_type": "code",
      "metadata": {
        "colab": {
          "base_uri": "https://localhost:8080/"
        },
        "id": "bIpuba2Jxw1W",
        "outputId": "8eae0e20-4f2d-45a7-cf2e-de9e35c373e7"
      },
      "source": [
        "shots_2014 = shots[shots['season'] == 2014]\n",
        "\n",
        "shots_row, shots_col = np.shape(shots_2014)\n",
        "print()\n",
        "print('Fjöldi lína í gagnasettinu shots_2014:', shots_row)\n",
        "print('Fjöldi dálka í gagnasettinu shots_2014.csv:', shots_col)\n",
        "print()\n",
        "print('Dálkar og tög þeirra í shots_2014:')\n",
        "print()\n",
        "print(shots_2014.dtypes)\n",
        "\n",
        "\n"
      ],
      "execution_count": 6,
      "outputs": [
        {
          "output_type": "stream",
          "text": [
            "\n",
            "Fjöldi lína í gagnasettinu shots_2014: 44080\n",
            "Fjöldi dálka í gagnasettinu shots_2014.csv: 34\n",
            "\n",
            "Dálkar og tög þeirra í shots_2014:\n",
            "\n",
            "Unnamed: 0          int64  \n",
            "id_odsp             object \n",
            "id_event            object \n",
            "sort_order          int64  \n",
            "time                int64  \n",
            "text                object \n",
            "event_type          int64  \n",
            "event_type2         float64\n",
            "side                int64  \n",
            "event_team          object \n",
            "opponent            object \n",
            "player              object \n",
            "player2             object \n",
            "player_in           float64\n",
            "player_out          float64\n",
            "shot_place          int64  \n",
            "shot_outcome        int64  \n",
            "is_goal             int64  \n",
            "location            int64  \n",
            "bodypart            int64  \n",
            "assist_method       int64  \n",
            "situation           int64  \n",
            "fast_break          int64  \n",
            "country             object \n",
            "date                object \n",
            "season              int64  \n",
            "Log_Reg_xG          float64\n",
            "Log_Reg_mismunur    float64\n",
            "RF_xG               float64\n",
            "RF_mismunur         float64\n",
            "NN_1_xG             float64\n",
            "NN_1_mismunur       float64\n",
            "GBC_xG              float64\n",
            "GBC_mismunur        float64\n",
            "dtype: object\n"
          ],
          "name": "stdout"
        }
      ]
    },
    {
      "cell_type": "code",
      "metadata": {
        "colab": {
          "base_uri": "https://localhost:8080/",
          "height": 615
        },
        "id": "-CD9i1Liyks_",
        "outputId": "3738add9-7b4d-4670-d39a-f31e5b2fded4"
      },
      "source": [
        "shots_2014.head(2)"
      ],
      "execution_count": 7,
      "outputs": [
        {
          "output_type": "execute_result",
          "data": {
            "text/html": [
              "<div>\n",
              "<style scoped>\n",
              "    .dataframe tbody tr th:only-of-type {\n",
              "        vertical-align: middle;\n",
              "    }\n",
              "\n",
              "    .dataframe tbody tr th {\n",
              "        vertical-align: top;\n",
              "    }\n",
              "\n",
              "    .dataframe thead th {\n",
              "        text-align: right;\n",
              "    }\n",
              "</style>\n",
              "<table border=\"1\" class=\"dataframe\">\n",
              "  <thead>\n",
              "    <tr style=\"text-align: right;\">\n",
              "      <th></th>\n",
              "      <th>Unnamed: 0</th>\n",
              "      <th>id_odsp</th>\n",
              "      <th>id_event</th>\n",
              "      <th>sort_order</th>\n",
              "      <th>time</th>\n",
              "      <th>text</th>\n",
              "      <th>event_type</th>\n",
              "      <th>event_type2</th>\n",
              "      <th>side</th>\n",
              "      <th>event_team</th>\n",
              "      <th>opponent</th>\n",
              "      <th>player</th>\n",
              "      <th>player2</th>\n",
              "      <th>player_in</th>\n",
              "      <th>player_out</th>\n",
              "      <th>shot_place</th>\n",
              "      <th>shot_outcome</th>\n",
              "      <th>is_goal</th>\n",
              "      <th>location</th>\n",
              "      <th>bodypart</th>\n",
              "      <th>assist_method</th>\n",
              "      <th>situation</th>\n",
              "      <th>fast_break</th>\n",
              "      <th>country</th>\n",
              "      <th>date</th>\n",
              "      <th>season</th>\n",
              "      <th>Log_Reg_xG</th>\n",
              "      <th>Log_Reg_mismunur</th>\n",
              "      <th>RF_xG</th>\n",
              "      <th>RF_mismunur</th>\n",
              "      <th>NN_1_xG</th>\n",
              "      <th>NN_1_mismunur</th>\n",
              "      <th>GBC_xG</th>\n",
              "      <th>GBC_mismunur</th>\n",
              "    </tr>\n",
              "  </thead>\n",
              "  <tbody>\n",
              "    <tr>\n",
              "      <th>71081</th>\n",
              "      <td>304956</td>\n",
              "      <td>CbSpcEyc/</td>\n",
              "      <td>CbSpcEyc10</td>\n",
              "      <td>10</td>\n",
              "      <td>7</td>\n",
              "      <td>Attempt saved. Ezequiel Lavezzi (Paris Saint Germain) header from the centre of the box is saved in the centre of the goal. Assisted by Lucas Moura with a cross.</td>\n",
              "      <td>1</td>\n",
              "      <td>12.0</td>\n",
              "      <td>2</td>\n",
              "      <td>Paris Saint-Germain</td>\n",
              "      <td>Montpellier</td>\n",
              "      <td>Ezequiel Lavezzi</td>\n",
              "      <td>Lucas Moura</td>\n",
              "      <td>NaN</td>\n",
              "      <td>NaN</td>\n",
              "      <td>5</td>\n",
              "      <td>1</td>\n",
              "      <td>0</td>\n",
              "      <td>3</td>\n",
              "      <td>3</td>\n",
              "      <td>2</td>\n",
              "      <td>1</td>\n",
              "      <td>0</td>\n",
              "      <td>France</td>\n",
              "      <td>2013-08-09</td>\n",
              "      <td>2014</td>\n",
              "      <td>0.066805</td>\n",
              "      <td>0.067</td>\n",
              "      <td>0.072679</td>\n",
              "      <td>0.073</td>\n",
              "      <td>0.072202</td>\n",
              "      <td>0.072</td>\n",
              "      <td>0.075817</td>\n",
              "      <td>0.076</td>\n",
              "    </tr>\n",
              "    <tr>\n",
              "      <th>71082</th>\n",
              "      <td>304957</td>\n",
              "      <td>CbSpcEyc/</td>\n",
              "      <td>CbSpcEyc11</td>\n",
              "      <td>11</td>\n",
              "      <td>10</td>\n",
              "      <td>Attempt blocked. Emanuel Herrera (Montpellier) left footed shot from outside the box is blocked. Assisted by RA©my Cabella.</td>\n",
              "      <td>1</td>\n",
              "      <td>12.0</td>\n",
              "      <td>1</td>\n",
              "      <td>Montpellier</td>\n",
              "      <td>Paris Saint-Germain</td>\n",
              "      <td>Emanuel Herrera</td>\n",
              "      <td>Remy Cabella</td>\n",
              "      <td>NaN</td>\n",
              "      <td>NaN</td>\n",
              "      <td>2</td>\n",
              "      <td>3</td>\n",
              "      <td>0</td>\n",
              "      <td>15</td>\n",
              "      <td>2</td>\n",
              "      <td>1</td>\n",
              "      <td>1</td>\n",
              "      <td>0</td>\n",
              "      <td>France</td>\n",
              "      <td>2013-08-09</td>\n",
              "      <td>2014</td>\n",
              "      <td>0.024351</td>\n",
              "      <td>0.024</td>\n",
              "      <td>0.026854</td>\n",
              "      <td>0.027</td>\n",
              "      <td>0.026005</td>\n",
              "      <td>0.026</td>\n",
              "      <td>0.026629</td>\n",
              "      <td>0.027</td>\n",
              "    </tr>\n",
              "  </tbody>\n",
              "</table>\n",
              "</div>"
            ],
            "text/plain": [
              "       Unnamed: 0    id_odsp    id_event  sort_order  time  \\\n",
              "71081  304956      CbSpcEyc/  CbSpcEyc10  10          7      \n",
              "71082  304957      CbSpcEyc/  CbSpcEyc11  11          10     \n",
              "\n",
              "                                                                                                                                                                    text  \\\n",
              "71081  Attempt saved. Ezequiel Lavezzi (Paris Saint Germain) header from the centre of the box is saved in the centre of the goal. Assisted by Lucas Moura with a cross.   \n",
              "71082  Attempt blocked. Emanuel Herrera (Montpellier) left footed shot from outside the box is blocked. Assisted by RA©my Cabella.                                         \n",
              "\n",
              "       event_type  event_type2  side           event_team  \\\n",
              "71081  1           12.0         2     Paris Saint-Germain   \n",
              "71082  1           12.0         1     Montpellier           \n",
              "\n",
              "                  opponent            player       player2  player_in  \\\n",
              "71081  Montpellier          Ezequiel Lavezzi  Lucas Moura  NaN          \n",
              "71082  Paris Saint-Germain  Emanuel Herrera   Remy Cabella NaN          \n",
              "\n",
              "       player_out  shot_place  shot_outcome  is_goal  location  bodypart  \\\n",
              "71081 NaN          5           1             0        3         3          \n",
              "71082 NaN          2           3             0        15        2          \n",
              "\n",
              "       assist_method  situation  fast_break country        date  season  \\\n",
              "71081  2              1          0           France  2013-08-09  2014     \n",
              "71082  1              1          0           France  2013-08-09  2014     \n",
              "\n",
              "       Log_Reg_xG  Log_Reg_mismunur     RF_xG  RF_mismunur   NN_1_xG  \\\n",
              "71081  0.066805    0.067             0.072679  0.073        0.072202   \n",
              "71082  0.024351    0.024             0.026854  0.027        0.026005   \n",
              "\n",
              "       NN_1_mismunur    GBC_xG  GBC_mismunur  \n",
              "71081  0.072          0.075817  0.076         \n",
              "71082  0.026          0.026629  0.027         "
            ]
          },
          "metadata": {
            "tags": []
          },
          "execution_count": 7
        }
      ]
    },
    {
      "cell_type": "code",
      "metadata": {
        "colab": {
          "base_uri": "https://localhost:8080/",
          "height": 147
        },
        "id": "hHZ9tlrEyYj-",
        "outputId": "97eb71b6-e5c7-42e6-fa88-180988c1e64e"
      },
      "source": [
        "cols = ['player', 'is_goal','Log_Reg_xG',\t'Log_Reg_mismunur',\t'RF_xG',\t'RF_mismunur',\t'NN_1_xG',\t'NN_1_mismunur',\t'GBC_xG',\t'GBC_mismunur']\n",
        "players_2014 = shots_2014[cols].groupby('player').sum().reset_index()\n",
        "players_2014.rename(columns= {'is_goal' : 'total_goals'},inplace=True)\n",
        "models = ['Log_Reg','RF','NN_1','GBC']\n",
        "for model in models:\n",
        "  players_2014[model+'_hlutfall'] = round(players_2014['total_goals'] / players_2014[model+'_xG'],3)\n",
        "\n",
        "players_2014['player'] = players_2014['player'].str.title()\n",
        "players_2014.head(2)\n"
      ],
      "execution_count": 8,
      "outputs": [
        {
          "output_type": "execute_result",
          "data": {
            "text/html": [
              "<div>\n",
              "<style scoped>\n",
              "    .dataframe tbody tr th:only-of-type {\n",
              "        vertical-align: middle;\n",
              "    }\n",
              "\n",
              "    .dataframe tbody tr th {\n",
              "        vertical-align: top;\n",
              "    }\n",
              "\n",
              "    .dataframe thead th {\n",
              "        text-align: right;\n",
              "    }\n",
              "</style>\n",
              "<table border=\"1\" class=\"dataframe\">\n",
              "  <thead>\n",
              "    <tr style=\"text-align: right;\">\n",
              "      <th></th>\n",
              "      <th>player</th>\n",
              "      <th>total_goals</th>\n",
              "      <th>Log_Reg_xG</th>\n",
              "      <th>Log_Reg_mismunur</th>\n",
              "      <th>RF_xG</th>\n",
              "      <th>RF_mismunur</th>\n",
              "      <th>NN_1_xG</th>\n",
              "      <th>NN_1_mismunur</th>\n",
              "      <th>GBC_xG</th>\n",
              "      <th>GBC_mismunur</th>\n",
              "      <th>Log_Reg_hlutfall</th>\n",
              "      <th>RF_hlutfall</th>\n",
              "      <th>NN_1_hlutfall</th>\n",
              "      <th>GBC_hlutfall</th>\n",
              "    </tr>\n",
              "  </thead>\n",
              "  <tbody>\n",
              "    <tr>\n",
              "      <th>0</th>\n",
              "      <td>Aaron</td>\n",
              "      <td>1</td>\n",
              "      <td>1.140121</td>\n",
              "      <td>0.141</td>\n",
              "      <td>1.119965</td>\n",
              "      <td>0.118</td>\n",
              "      <td>1.117539</td>\n",
              "      <td>0.116</td>\n",
              "      <td>1.180971</td>\n",
              "      <td>0.182</td>\n",
              "      <td>0.877</td>\n",
              "      <td>0.893</td>\n",
              "      <td>0.895</td>\n",
              "      <td>0.847</td>\n",
              "    </tr>\n",
              "    <tr>\n",
              "      <th>1</th>\n",
              "      <td>Aaron Hunt</td>\n",
              "      <td>4</td>\n",
              "      <td>5.798922</td>\n",
              "      <td>1.803</td>\n",
              "      <td>5.260874</td>\n",
              "      <td>1.261</td>\n",
              "      <td>5.697648</td>\n",
              "      <td>1.701</td>\n",
              "      <td>5.568305</td>\n",
              "      <td>1.571</td>\n",
              "      <td>0.690</td>\n",
              "      <td>0.760</td>\n",
              "      <td>0.702</td>\n",
              "      <td>0.718</td>\n",
              "    </tr>\n",
              "  </tbody>\n",
              "</table>\n",
              "</div>"
            ],
            "text/plain": [
              "       player  total_goals  Log_Reg_xG  Log_Reg_mismunur     RF_xG  \\\n",
              "0  Aaron       1            1.140121    0.141             1.119965   \n",
              "1  Aaron Hunt  4            5.798922    1.803             5.260874   \n",
              "\n",
              "   RF_mismunur   NN_1_xG  NN_1_mismunur    GBC_xG  GBC_mismunur  \\\n",
              "0  0.118        1.117539  0.116          1.180971  0.182          \n",
              "1  1.261        5.697648  1.701          5.568305  1.571          \n",
              "\n",
              "   Log_Reg_hlutfall  RF_hlutfall  NN_1_hlutfall  GBC_hlutfall  \n",
              "0  0.877             0.893        0.895          0.847         \n",
              "1  0.690             0.760        0.702          0.718         "
            ]
          },
          "metadata": {
            "tags": []
          },
          "execution_count": 8
        }
      ]
    },
    {
      "cell_type": "code",
      "metadata": {
        "colab": {
          "base_uri": "https://localhost:8080/"
        },
        "id": "neA7jL5qzHpc",
        "outputId": "53d5161f-9039-4c7c-fead-6ebb351a7433"
      },
      "source": [
        "players_row, players_col = np.shape(players_2014)\n",
        "print()\n",
        "print('Fjöldi leikmanna sem spiluðu árið 2014:      ', players_row)\n",
        "print('Fjöldi dálka í gagnasettinu players_2014:    ', players_col)\n",
        "print()\n",
        "print('Dálkar og tög þeirra í players_2014:')\n",
        "print()\n",
        "print(players_2014.dtypes)\n",
        "print()\n",
        "\n"
      ],
      "execution_count": 9,
      "outputs": [
        {
          "output_type": "stream",
          "text": [
            "\n",
            "Fjöldi leikmanna sem spiluðu árið 2014:       2146\n",
            "Fjöldi dálka í gagnasettinu players_2014:     14\n",
            "\n",
            "Dálkar og tög þeirra í players_2014:\n",
            "\n",
            "player              object \n",
            "total_goals         int64  \n",
            "Log_Reg_xG          float64\n",
            "Log_Reg_mismunur    float64\n",
            "RF_xG               float64\n",
            "RF_mismunur         float64\n",
            "NN_1_xG             float64\n",
            "NN_1_mismunur       float64\n",
            "GBC_xG              float64\n",
            "GBC_mismunur        float64\n",
            "Log_Reg_hlutfall    float64\n",
            "RF_hlutfall         float64\n",
            "NN_1_hlutfall       float64\n",
            "GBC_hlutfall        float64\n",
            "dtype: object\n",
            "\n"
          ],
          "name": "stdout"
        }
      ]
    },
    {
      "cell_type": "code",
      "metadata": {
        "id": "-V9ZwXJ71QFY"
      },
      "source": [
        "def PlotxGMinusRealGoals(model,model_name):\n",
        "  model_ratio = model + '_hlutfall'\n",
        "  model_diff = model + '_mismunur'\n",
        "  model_xG = model + '_xG'\n",
        "  print(model_name)\n",
        "  print()\n",
        "  print('Meðal hlutfall (mörk/xG):              ',np.round(players_2014[model_ratio].mean(),4))\n",
        "  print('Meðal mismunur marka og xG (xG-mörk)  ',np.round(players_2014[model_diff].mean(),4))\n",
        "  print('Staðalfrávik:                          ',np.round(players_2014[model_diff].std(),4))\n",
        "  print('Fervik:                                ',np.round(players_2014[model_diff].var(),4))\n",
        "  print('Fjöldi marka 2014:                     ',players_2014['total_goals'].sum())\n",
        "  print('Fjöldi spáðra marka 2014:              ',np.round(players_2014[model_xG].sum(),4))\n",
        "  print()\n",
        "  plt.figure(figsize=(8,6))\n",
        "  players_2014[model_diff].hist(stacked=True,bins =50)\n",
        "  plt.xlim((-20,20))\n",
        "  plt.title('Tíðnirit yfir mismun xG og raunverulegra marka')\n",
        "  plt.xlabel('Tot_xG - Raunveruleg mörk')\n",
        "  plt.show()\n",
        "\n",
        "def DisplayByFeature(model,feature_inp,nr,goals_over = None):\n",
        "  feature = model+feature_inp\n",
        "  xG = model + '_xG'\n",
        "  mismunur = model + '_mismunur'\n",
        "  hlutfall = model + '_hlutfall'\n",
        "  asc = False\n",
        "  if feature_inp == '_hlutfall' and goals_over is not None:\n",
        "    show = players_2014[players_2014.total_goals > goals_over].sort_values(by = feature ,ascending=asc).reset_index(drop=True)\n",
        "    return show[['player','total_goals', xG, mismunur, hlutfall]].head(nr)\n",
        "  elif feature_inp == '_hlutfall' and goals_over is None:\n",
        "    print('Must give goals_over')\n",
        "    return None\n",
        "  if feature_inp == '_mismunur':\n",
        "    asc = True\n",
        "    show = players_2014.sort_values(by = feature ,ascending=asc).reset_index(drop=True)\n",
        "    return show[['player','total_goals', xG, mismunur, hlutfall]].head(nr)\n",
        "  show = players_2014.sort_values(by = feature ,ascending=asc).reset_index(drop=True)\n",
        "  return show[['player','total_goals', xG, mismunur, hlutfall]].head(nr)"
      ],
      "execution_count": 38,
      "outputs": []
    },
    {
      "cell_type": "code",
      "metadata": {
        "colab": {
          "base_uri": "https://localhost:8080/",
          "height": 561
        },
        "id": "keqObrrq1ybm",
        "outputId": "0ff6fd6e-cc09-44ba-e65c-d4bd74298bde"
      },
      "source": [
        "PlotxGMinusRealGoals(\"Log_Reg\", \"Logistic Regression\")"
      ],
      "execution_count": 39,
      "outputs": [
        {
          "output_type": "stream",
          "text": [
            "Logistic Regression\n",
            "\n",
            "Meðal hlutfall (mörk/xG):               0.8733\n",
            "Meðal mismunur marka og xG (xG-mörk)   -0.042\n",
            "Staðalfrávik:                           1.3168\n",
            "Fervik:                                 1.734\n",
            "Fjöldi marka 2014:                      4286\n",
            "Fjöldi spáðra marka 2014:               4194.5441\n",
            "\n"
          ],
          "name": "stdout"
        },
        {
          "output_type": "display_data",
          "data": {
            "image/png": "[encoded data removed]",
            "text/plain": [
              "<Figure size 576x432 with 1 Axes>"
            ]
          },
          "metadata": {
            "tags": [],
            "needs_background": "light"
          }
        }
      ]
    },
    {
      "cell_type": "code",
      "metadata": {
        "colab": {
          "base_uri": "https://localhost:8080/",
          "height": 561
        },
        "id": "aSzRl8PO4Gmq",
        "outputId": "4423862b-b28e-4e68-e7a9-e82f9ccebe33"
      },
      "source": [
        "PlotxGMinusRealGoals(\"NN_1\", \"Tauganet\")"
      ],
      "execution_count": 40,
      "outputs": [
        {
          "output_type": "stream",
          "text": [
            "Tauganet\n",
            "\n",
            "Meðal hlutfall (mörk/xG):               0.8815\n",
            "Meðal mismunur marka og xG (xG-mörk)   -0.0653\n",
            "Staðalfrávik:                           1.3159\n",
            "Fervik:                                 1.7316\n",
            "Fjöldi marka 2014:                      4286\n",
            "Fjöldi spáðra marka 2014:               4150.0496\n",
            "\n"
          ],
          "name": "stdout"
        },
        {
          "output_type": "display_data",
          "data": {
            "image/png": "[encoded data removed]",
            "text/plain": [
              "<Figure size 576x432 with 1 Axes>"
            ]
          },
          "metadata": {
            "tags": [],
            "needs_background": "light"
          }
        }
      ]
    },
    {
      "cell_type": "code",
      "metadata": {
        "colab": {
          "base_uri": "https://localhost:8080/",
          "height": 561
        },
        "id": "cBbPM4M44GdU",
        "outputId": "8d1ab6b4-66e8-49b2-86b7-e7c1a83f4bf1"
      },
      "source": [
        "PlotxGMinusRealGoals(\"RF\", \"Random Forrest\")"
      ],
      "execution_count": 41,
      "outputs": [
        {
          "output_type": "stream",
          "text": [
            "Random Forrest\n",
            "\n",
            "Meðal hlutfall (mörk/xG):               0.8867\n",
            "Meðal mismunur marka og xG (xG-mörk)   -0.0471\n",
            "Staðalfrávik:                           1.3085\n",
            "Fervik:                                 1.7121\n",
            "Fjöldi marka 2014:                      4286\n",
            "Fjöldi spáðra marka 2014:               4188.6371\n",
            "\n"
          ],
          "name": "stdout"
        },
        {
          "output_type": "display_data",
          "data": {
            "image/png": "[encoded data removed]",
            "text/plain": [
              "<Figure size 576x432 with 1 Axes>"
            ]
          },
          "metadata": {
            "tags": [],
            "needs_background": "light"
          }
        }
      ]
    },
    {
      "cell_type": "code",
      "metadata": {
        "colab": {
          "base_uri": "https://localhost:8080/",
          "height": 561
        },
        "id": "bh1rWkOW4GR9",
        "outputId": "0c167528-a84e-4dae-9ff7-c8f1930e74d7"
      },
      "source": [
        "PlotxGMinusRealGoals(\"GBC\", \"Gradient Boosting\")"
      ],
      "execution_count": 42,
      "outputs": [
        {
          "output_type": "stream",
          "text": [
            "Gradient Boosting\n",
            "\n",
            "Meðal hlutfall (mörk/xG):               0.8406\n",
            "Meðal mismunur marka og xG (xG-mörk)   -0.0423\n",
            "Staðalfrávik:                           1.3218\n",
            "Fervik:                                 1.7471\n",
            "Fjöldi marka 2014:                      4286\n",
            "Fjöldi spáðra marka 2014:               4195.6495\n",
            "\n"
          ],
          "name": "stdout"
        },
        {
          "output_type": "display_data",
          "data": {
            "image/png": "[encoded data removed]",
            "text/plain": [
              "<Figure size 576x432 with 1 Axes>"
            ]
          },
          "metadata": {
            "tags": [],
            "needs_background": "light"
          }
        }
      ]
    },
    {
      "cell_type": "code",
      "metadata": {
        "colab": {
          "base_uri": "https://localhost:8080/",
          "height": 79
        },
        "id": "Zl0l-HdV2gfX",
        "outputId": "c5885b29-1646-4368-88a0-b5b59abdc05d"
      },
      "source": [
        "DisplayByFeature('RF','_mismunur',3000).tail(1)"
      ],
      "execution_count": 54,
      "outputs": [
        {
          "output_type": "execute_result",
          "data": {
            "text/html": [
              "<div>\n",
              "<style scoped>\n",
              "    .dataframe tbody tr th:only-of-type {\n",
              "        vertical-align: middle;\n",
              "    }\n",
              "\n",
              "    .dataframe tbody tr th {\n",
              "        vertical-align: top;\n",
              "    }\n",
              "\n",
              "    .dataframe thead th {\n",
              "        text-align: right;\n",
              "    }\n",
              "</style>\n",
              "<table border=\"1\" class=\"dataframe\">\n",
              "  <thead>\n",
              "    <tr style=\"text-align: right;\">\n",
              "      <th></th>\n",
              "      <th>player</th>\n",
              "      <th>total_goals</th>\n",
              "      <th>RF_xG</th>\n",
              "      <th>RF_mismunur</th>\n",
              "      <th>RF_hlutfall</th>\n",
              "    </tr>\n",
              "  </thead>\n",
              "  <tbody>\n",
              "    <tr>\n",
              "      <th>2145</th>\n",
              "      <td>Antonio Di Natale</td>\n",
              "      <td>13</td>\n",
              "      <td>18.315838</td>\n",
              "      <td>5.302</td>\n",
              "      <td>0.71</td>\n",
              "    </tr>\n",
              "  </tbody>\n",
              "</table>\n",
              "</div>"
            ],
            "text/plain": [
              "                 player  total_goals      RF_xG  RF_mismunur  RF_hlutfall\n",
              "2145  Antonio Di Natale  13           18.315838  5.302        0.71       "
            ]
          },
          "metadata": {
            "tags": []
          },
          "execution_count": 54
        }
      ]
    },
    {
      "cell_type": "code",
      "metadata": {
        "colab": {
          "base_uri": "https://localhost:8080/",
          "height": 122
        },
        "id": "rWXSGoKD6thc",
        "outputId": "54dcdcce-04b1-41ea-c058-738716bcac35"
      },
      "source": [
        "DisplayByFeature('NN_1','_hlutfall',10,goals_over=5).to_latex()"
      ],
      "execution_count": 62,
      "outputs": [
        {
          "output_type": "execute_result",
          "data": {
            "application/vnd.google.colaboratory.intrinsic+json": {
              "type": "string"
            },
            "text/plain": [
              "'\\\\begin{tabular}{llrrrr}\\n\\\\toprule\\n{} &           player &  total\\\\_goals &   NN\\\\_1\\\\_xG &  NN\\\\_1\\\\_mismunur &  NN\\\\_1\\\\_hlutfall \\\\\\\\\\n\\\\midrule\\n0 &  Alexandru Maxim &  7 &  2.543482 & -4.460 &  2.752 \\\\\\\\\\n1 &  Angel Lafita &  7 &  2.614987 & -4.392 &  2.677 \\\\\\\\\\n2 &  Ola Toivonen &  7 &  2.793487 & -4.211 &  2.506 \\\\\\\\\\n3 &  Martin Skrtel &  7 &  3.014649 & -3.986 &  2.322 \\\\\\\\\\n4 &  Sven Schipplock &  6 &  2.834816 & -3.170 &  2.117 \\\\\\\\\\n5 &  Romain Hamouma &  7 &  3.414879 & -3.589 &  2.050 \\\\\\\\\\n6 &  Claudio Pizarro &  9 &  4.409063 & -4.595 &  2.041 \\\\\\\\\\n7 &  Mario Mandzukic &  16 &  7.914808 & -8.091 &  2.022 \\\\\\\\\\n8 &  Dimitri Payet &  7 &  3.507689 & -3.497 &  1.996 \\\\\\\\\\n9 &  Josip Drmic &  16 &  8.122010 & -7.884 &  1.970 \\\\\\\\\\n\\\\bottomrule\\n\\\\end{tabular}\\n'"
            ]
          },
          "metadata": {
            "tags": []
          },
          "execution_count": 62
        }
      ]
    }
  ]
}